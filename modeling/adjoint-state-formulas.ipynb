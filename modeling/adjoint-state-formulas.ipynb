{
 "cells": [
  {
   "cell_type": "markdown",
   "metadata": {},
   "source": [
    "Beyond machine learning: physicaly constrained optimization\n",
    "    \n",
    "Here I explain how to add implicit equations to an optimization problem. I will also show an example of fitting model to data\n",
    "where the model and the observed data constrained with an implicit equation."
   ]
  },
  {
   "cell_type": "code",
   "execution_count": 27,
   "metadata": {
    "collapsed": true
   },
   "outputs": [],
   "source": [
    "from IPython.display import display, Math, Latex"
   ]
  },
  {
   "cell_type": "code",
   "execution_count": 28,
   "metadata": {},
   "outputs": [
    {
     "data": {
      "text/latex": [
       "$$\\begin{equation}x = 1\\end{equation}$$"
      ],
      "text/plain": [
       "<IPython.core.display.Math object>"
      ]
     },
     "metadata": {},
     "output_type": "display_data"
    }
   ],
   "source": [
    "display(Math(r\"\"\"\\begin{equation}x = 1\\end{equation}\"\"\"))"
   ]
  },
  {
   "cell_type": "code",
   "execution_count": 29,
   "metadata": {},
   "outputs": [
    {
     "data": {
      "text/latex": [
       "\\begin{equation}\n\\lambda\n\\end{equation}"
      ],
      "text/plain": [
       "<IPython.core.display.Latex object>"
      ]
     },
     "metadata": {},
     "output_type": "display_data"
    }
   ],
   "source": [
    "%%latex\n",
    "\\begin{equation}\n",
    "\\lambda\n",
    "\\end{equation}"
   ]
  },
  {
   "cell_type": "code",
   "execution_count": 30,
   "metadata": {},
   "outputs": [
    {
     "ename": "SyntaxError",
     "evalue": "invalid syntax (<ipython-input-30-5f48f049f4ee>, line 1)",
     "traceback": [
      "\u001b[1;36m  File \u001b[1;32m\"<ipython-input-30-5f48f049f4ee>\"\u001b[1;36m, line \u001b[1;32m1\u001b[0m\n\u001b[1;33m    Constrained optimization: explicit vs. implicit\u001b[0m\n\u001b[1;37m                           ^\u001b[0m\n\u001b[1;31mSyntaxError\u001b[0m\u001b[1;31m:\u001b[0m invalid syntax\n"
     ],
     "output_type": "error"
    }
   ],
   "source": [
    "Constrained optimization: explicit vs. implicit\n",
    "%%latex\n",
    "\\begin{equation}\n",
    "\\mathrel{\\text{min}} L(Y,m) \n",
    "\\mathrel{\\text{subject to:}} Y=Y(m) \\rightarrow \n",
    "\\frac{\\partial L}{\\partial m} = \\frac{\\partial L}{\\partial Y} \\frac{\\partial Y}{\\partial m} \n",
    "\\end{equation}"
   ]
  },
  {
   "cell_type": "markdown",
   "metadata": {},
   "source": [
    "\\begin{equation}\n",
    "\\mathrel{\\text{min}} L(Y,m) \n",
    "\\mathrel{\\text{subject to:}} F(Y,m)=0 \\rightarrow \\frac{\\partial L}{\\partial m}=?\n",
    "\\end{equation}"
   ]
  },
  {
   "cell_type": "markdown",
   "metadata": {},
   "source": [
    "Adjoint state method overview: start with two solutions $(Y,m)$ and $(Y+\\delta Y, m + \\delta m)$ satisfying $F = 0$:\n",
    "\\begin{equation}\n",
    "F(Y+\\delta Y, m + \\delta m) = F(Y,m) + \\frac{\\partial F}{\\partial Y}\\delta Y + \\frac{\\partial F}{\\partial m}\\delta m \n",
    "\\rightarrow\n",
    "\\frac{\\partial F}{\\partial Y}\\delta Y = - \\frac{\\partial F}{\\partial m}\\delta m\n",
    "\\rightarrow\n",
    "\\delta Y = - \\left( \\frac{\\partial F}{\\partial Y} \\right )^{-1} \\frac{\\partial F}{\\partial m}\\delta m\n",
    "\\end{equation}"
   ]
  },
  {
   "cell_type": "markdown",
   "metadata": {},
   "source": [
    "Find optimization gradient as follow:\n",
    "\\begin{equation}\n",
    "\\frac{\\partial L}{\\partial m} = \\frac{\\partial L}{\\partial Y} \\frac{\\partial Y}{\\partial m} = \n",
    "-\\frac{\\partial L}{\\partial Y} \\left (  \\frac{\\partial F}{\\partial Y} \\right )^{-1}\\frac{\\partial F}{\\partial m} =-\n",
    "\\left [ \\left (  \\frac{\\partial F}{\\partial Y} \\right )^{-1} \\right ]^* \n",
    "\\frac{\\partial L}{\\partial Y} \n",
    "\\frac{\\partial F}{\\partial m}=\n",
    "-\\left [ \\left (  \\frac{\\partial F}{\\partial Y} \\right )^* \\right ]^{-1} \n",
    "\\frac{\\partial L}{\\partial Y} \\frac{\\partial F}{\\partial m}=\n",
    "-\\lambda \\frac{\\partial F}{\\partial m}\n",
    "\\\\\n",
    "\\mathrel{\\text{where}} \\lambda \\mathrel{\\text{defined as solution to adjoint problem:}}\n",
    "\\left (  \\frac{\\partial F}{\\partial Y} \\right )^* \\lambda = \\frac{\\partial L}{\\partial Y}\n",
    "\\end{equation}"
   ]
  },
  {
   "cell_type": "markdown",
   "metadata": {
    "collapsed": true
   },
   "source": [
    "Example\n",
    "\n",
    "Fitting data using hyperbolic non-parametric quation:\n",
    "\n",
    "\\begin{equation}\n",
    "\\mathrel{\\text{min}} L(Y,m) \\mathrel{\\text{subject to:}} F(Y,m)=0  \\\\\n",
    "\\mathrel{\\text{where}} L = \\int (Y-Y^{obs})^2dx \\\\\n",
    "\\mathrel{\\text{subject to:}} -Y^2 + x^2 -m^2 = 0\n",
    "\\end{equation}"
   ]
  },
  {
   "cell_type": "markdown",
   "metadata": {},
   "source": [
    "Find the adjoint state equations: \n",
    "\\begin{equation}\n",
    "\\frac{\\partial L}{\\partial Y} = Y-Y^{obs} \\\\\n",
    "\\frac{\\partial F}{\\partial m} = -2m  \\\\\n",
    "\\frac{\\partial F}{\\partial Y} = -2Y \\rightarrow \\left ( \\frac{\\partial F}{\\partial Y} \\right )^*=-2Y\n",
    "\\end{equation}"
   ]
  },
  {
   "cell_type": "markdown",
   "metadata": {},
   "source": [
    "First solve for $\\lambda$ as follows:\n",
    "\\begin{equation}\n",
    "\\left (  \\frac{\\partial F}{\\partial Y} \\right )^{*} \\lambda = \\frac{\\partial L}{\\partial Y} \\rightarrow\n",
    "-2Y\\lambda =  Y-Y^{obs} \\rightarrow \\lambda = -\\frac{Y-Y^{obs}}{2Y}\n",
    "\\end{equation}"
   ]
  },
  {
   "cell_type": "markdown",
   "metadata": {},
   "source": [
    "Now find the solution gradient:\n",
    "\\begin{equation}\n",
    "\\frac{\\partial L}{\\partial m} = \n",
    "-\\left [ \\left (  \\frac{\\partial F}{\\partial Y} \\right )^{*} \\right ]^{-1} \\frac{\\partial L}{\\partial Y} \\frac{\\partial F}{\\partial m} \n",
    "= - \\lambda \\frac{\\partial F}{\\partial m}\n",
    "= - \\int \\lambda (-2m) \n",
    "= 2m \\int \\lambda \n",
    "= 2m \\int -\\frac{Y-Y^{obs}}{2Y}\n",
    "\\end{equation}"
   ]
  },
  {
   "cell_type": "markdown",
   "metadata": {},
   "source": [
    "\\begin{equation}\n",
    "\\mathrel{\\text{Gradient descent:}} \n",
    "m \\leftarrow m - \\alpha \\frac{\\partial L}{\\partial m}\n",
    "\\end{equation}"
   ]
  },
  {
   "cell_type": "markdown",
   "metadata": {},
   "source": [
    "<script type=\"text/javascript\" src=\"http://cdn.mathjax.org/mathjax/latest/MathJax.js?config=default\"></script>\n",
    "'''\n",
    "MathJax.Hub.Config({\n",
    "  tex2jax: {\n",
    "    inlineMath: [ ['$','$'], ['\\\\(','\\\\)'] ]\n",
    "  }\n",
    "});\n",
    "'''\n",
    "#display(Math(r'F(k) = \\int_{-\\infty}^{\\infty} f(x) e^{2\\pi i k} dx'))"
   ]
  },
  {
   "cell_type": "code",
   "execution_count": null,
   "metadata": {
    "collapsed": true
   },
   "outputs": [],
   "source": []
  }
 ],
 "metadata": {
  "kernelspec": {
   "display_name": "Python 3",
   "language": "python",
   "name": "python3"
  },
  "language_info": {
   "codemirror_mode": {
    "name": "ipython",
    "version": 3
   },
   "file_extension": ".py",
   "mimetype": "text/x-python",
   "name": "python",
   "nbconvert_exporter": "python",
   "pygments_lexer": "ipython3",
   "version": "3.6.3"
  }
 },
 "nbformat": 4,
 "nbformat_minor": 1
}
