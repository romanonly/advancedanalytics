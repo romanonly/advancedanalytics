{
 "cells": [
  {
   "cell_type": "markdown",
   "metadata": {},
   "source": [
    "Beyond machine learning: physicaly constrained optimization\n",
    "    \n",
    "Here I explain how to add implicit equations to an optimization problem. I will also show an example of fitting model to data\n",
    "where the model and the observed data constrained with an implicit equation."
   ]
  },
  {
   "cell_type": "code",
   "execution_count": 112,
   "metadata": {
    "collapsed": true
   },
   "outputs": [],
   "source": [
    "from IPython.display import display, Math, Latex"
   ]
  },
  {
   "cell_type": "markdown",
   "metadata": {},
   "source": [
    "Constrained optimization: explicit vs. implicit\n",
    "\\begin{eqnarray}\n",
    "\\mathrel{\\text{min}} L(Y,m) \n",
    "\\mathrel{\\text{subject to:}} Y=Y(m) \\rightarrow \n",
    "\\frac{\\partial L}{\\partial m} = \\frac{\\partial L}{\\partial Y} \\frac{\\partial Y}{\\partial m} \n",
    "\\end{eqnarray}"
   ]
  },
  {
   "cell_type": "markdown",
   "metadata": {},
   "source": [
    "\\begin{eqnarray}\n",
    "\\mathrel{\\text{min}} L(Y,m) \n",
    "\\mathrel{\\text{subject to:}} F(Y,m)=0 \\rightarrow \\frac{\\partial L}{\\partial m}=?\n",
    "\\end{eqnarray}"
   ]
  },
  {
   "cell_type": "markdown",
   "metadata": {},
   "source": [
    "Adjoint state method overview: start with two solutions $(Y,m)$ and $(Y+\\delta Y, m + \\delta m)$ satisfying $F = 0$:\n",
    "\\begin{eqnarray}\n",
    "F(Y+\\delta Y, m + \\delta m) = F(Y,m) + \\frac{\\partial F}{\\partial Y}\\delta Y + \\frac{\\partial F}{\\partial m}\\delta m \n",
    "\\rightarrow\n",
    "\\frac{\\partial F}{\\partial Y}\\delta Y = - \\frac{\\partial F}{\\partial m}\\delta m\n",
    "\\rightarrow\n",
    "\\delta Y = - \\left( \\frac{\\partial F}{\\partial Y} \\right )^{-1} \\frac{\\partial F}{\\partial m}\\delta m\n",
    "\\end{eqnarray}"
   ]
  },
  {
   "cell_type": "markdown",
   "metadata": {},
   "source": [
    "Find optimization gradient as follow:\n",
    "\\begin{eqnarray}\n",
    "\\frac{\\partial L}{\\partial m} = \\frac{\\partial L}{\\partial Y} \\frac{\\partial Y}{\\partial m} = \n",
    "-\\frac{\\partial L}{\\partial Y} \\left (  \\frac{\\partial F}{\\partial Y} \\right )^{-1}\\frac{\\partial F}{\\partial m} =\n",
    "= - \\left [ \\left (  \\frac{\\partial F}{\\partial Y} \\right )^{-1} \\right ]^{*} \\frac{\\partial L}{\\partial Y} \n",
    "\\frac{\\partial F}{\\partial m} =\n",
    "- \\left [ \\left (  \\frac{\\partial F}{\\partial Y} \\right )^{*} \\right ]^{-1} \\frac{\\partial L}{\\partial Y} \\frac{\\partial F}{\\partial m} \n",
    "= - \\lambda \\frac{\\partial F}{\\partial m}\n",
    "\\newline\n",
    "\\mathrel{\\text{where}} \\lambda \\mathrel{\\text{defined as solution to adjoint problem:}}\n",
    "\\left (  \\frac{\\partial F}{\\partial Y} \\right )^{*} \\lambda = \\frac{\\partial L}{\\partial Y}\n",
    "\\end{eqnarray}"
   ]
  },
  {
   "cell_type": "markdown",
   "metadata": {
    "collapsed": true
   },
   "source": [
    "Example\n",
    "\n",
    "Fitting data using hyperbolic non-parametric quation:\n",
    "\n",
    "\\begin{eqnarray}\n",
    "\\mathrel{\\text{min}} L(Y,m) \\mathrel{\\text{subject to:}} F(Y,m)=0  \\\\\n",
    "\\mathrel{\\text{where}} L = \\int (Y-Y^{obs})^2dx \n",
    "\\\\\n",
    "\\mathrel{\\text{subject to:}} -Y^2 + x^2 -m^2 = 0\n",
    "\\end{eqnarray}"
   ]
  },
  {
   "cell_type": "markdown",
   "metadata": {},
   "source": [
    "Find the adjoint state equations: \n",
    "\\begin{eqnarray}\n",
    "\\frac{\\partial L}{\\partial Y} = Y-Y^{obs} \\\\\n",
    "\\frac{\\partial F}{\\partial m} = -2m  \\\\\n",
    "\\frac{\\partial F}{\\partial Y} = -2Y \\rightarrow \\left ( \\frac{\\partial F}{\\partial Y} \\right ) ^{*} = -2Y\n",
    "\\end{eqnarray}"
   ]
  },
  {
   "cell_type": "markdown",
   "metadata": {},
   "source": [
    "First solve for $\\lambda$ as follows:\n",
    "\\begin{eqnarray}\n",
    "\\left (  \\frac{\\partial F}{\\partial Y} \\right )^{*} \\lambda = \\frac{\\partial L}{\\partial Y} \\rightarrow\n",
    "-2Y\\lambda =  Y-Y^{obs} \\rightarrow \\lambda = -\\frac{Y-Y^{obs}}{2Y}\n",
    "\\end{eqnarray}"
   ]
  },
  {
   "cell_type": "markdown",
   "metadata": {},
   "source": [
    "Now find the solution gradient:\n",
    "\\begin{eqnarray}\n",
    "\\frac{\\partial L}{\\partial m} = \n",
    "- \\left [ \\left (  \\frac{\\partial F}{\\partial Y} \\right )^{*} \\right ]^{-1} \\frac{\\partial L}{\\partial Y} \\frac{\\partial F}{\\partial m} \n",
    "= - \\lambda \\frac{\\partial F}{\\partial m}\n",
    "= - \\int \\lambda (-2m) \n",
    "= 2m \\int \\lambda \n",
    "= 2m \\int -\\frac{Y-Y^{obs}}{2Y}\n",
    "\\end{eqnarray}"
   ]
  },
  {
   "cell_type": "markdown",
   "metadata": {},
   "source": [
    "\\begin{eqnarray}\n",
    "\\mathrel{\\text{Gradient descent:}} \n",
    "m \\leftarrow m - \\alpha \\frac{\\partial L}{\\partial m}\n",
    "\\end{eqnarray}"
   ]
  },
  {
   "cell_type": "markdown",
   "metadata": {},
   "source": [
    "<script type=\"text/javascript\" src=\"http://cdn.mathjax.org/mathjax/latest/MathJax.js?config=default\"></script>\n",
    "'''\n",
    "MathJax.Hub.Config({\n",
    "  tex2jax: {\n",
    "    inlineMath: [ ['$','$'], ['\\\\(','\\\\)'] ]\n",
    "  }\n",
    "});\n",
    "'''\n",
    "#display(Math(r'F(k) = \\int_{-\\infty}^{\\infty} f(x) e^{2\\pi i k} dx'))"
   ]
  },
  {
   "cell_type": "code",
   "execution_count": null,
   "metadata": {
    "collapsed": true
   },
   "outputs": [],
   "source": []
  }
 ],
 "metadata": {
  "kernelspec": {
   "display_name": "Python 3",
   "language": "python",
   "name": "python3"
  },
  "language_info": {
   "codemirror_mode": {
    "name": "ipython",
    "version": 3
   },
   "file_extension": ".py",
   "mimetype": "text/x-python",
   "name": "python",
   "nbconvert_exporter": "python",
   "pygments_lexer": "ipython3",
   "version": "3.6.3"
  }
 },
 "nbformat": 4,
 "nbformat_minor": 1
}
