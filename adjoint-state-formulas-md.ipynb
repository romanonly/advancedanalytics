{
 "cells": [
  {
   "cell_type": "code",
   "execution_count": 1,
   "metadata": {
    "collapsed": true
   },
   "outputs": [],
   "source": [
    "from IPython.display import Markdown, display\n",
    "def printmd(string):\n",
    "    display(Markdown(string))\n",
    "#printmd('**bold**')\n",
    "#printmd('### Header3')\n",
    "#printmd('## Header2')\n",
    "#printmd('# Header1')"
   ]
  },
  {
   "cell_type": "code",
   "execution_count": 2,
   "metadata": {},
   "outputs": [
    {
     "data": {
      "text/markdown": [
       "# Beyond machine learning: physicaly constrained optimization"
      ],
      "text/plain": [
       "<IPython.core.display.Markdown object>"
      ]
     },
     "metadata": {},
     "output_type": "display_data"
    },
    {
     "data": {
      "text/markdown": [
       "I explain how to add implicit equations to an optimization problem.I will also show an example of fitting model to datawhere the model and the observed data constrained with an implicit equation."
      ],
      "text/plain": [
       "<IPython.core.display.Markdown object>"
      ]
     },
     "metadata": {},
     "output_type": "display_data"
    }
   ],
   "source": [
    "printmd('# Beyond machine learning: physicaly constrained optimization')\n",
    "    \n",
    "printmd('I explain how to add implicit equations to an optimization problem.I will also show an example of fitting model to datawhere the model and the observed data constrained with an implicit equation.')"
   ]
  },
  {
   "cell_type": "code",
   "execution_count": 3,
   "metadata": {
    "collapsed": true
   },
   "outputs": [],
   "source": [
    "from IPython.display import display, Math, Latex"
   ]
  },
  {
   "cell_type": "code",
   "execution_count": 4,
   "metadata": {
    "collapsed": true,
    "scrolled": true
   },
   "outputs": [],
   "source": [
    "#display(Math(r\"\"\"\\begin{equation}\\mathrel{\\text{Constrained optimization: explicit vs. implicit}}\\end{equation}\"\"\"))"
   ]
  },
  {
   "cell_type": "code",
   "execution_count": 5,
   "metadata": {
    "scrolled": true
   },
   "outputs": [
    {
     "data": {
      "text/markdown": [
       "# Constrained optimization: explicit vs. implicit"
      ],
      "text/plain": [
       "<IPython.core.display.Markdown object>"
      ]
     },
     "metadata": {},
     "output_type": "display_data"
    }
   ],
   "source": [
    "printmd('# Constrained optimization: explicit vs. implicit')"
   ]
  },
  {
   "cell_type": "markdown",
   "metadata": {},
   "source": [
    "\\begin{equation}\n",
    "\\mathrel{\\text{min}} L(Y,m) \n",
    "\\mathrel{\\text{subject to:}} Y=Y(m) \\rightarrow \n",
    "\\frac{\\partial L}{\\partial m} = \\frac{\\partial L}{\\partial Y} \\frac{\\partial Y}{\\partial m} \n",
    "\\end{equation}"
   ]
  },
  {
   "cell_type": "markdown",
   "metadata": {},
   "source": [
    "\\begin{equation}\n",
    "\\mathrel{\\text{min}} L(Y,m) \n",
    "\\mathrel{\\text{subject to:}} F(Y,m)=0 \\rightarrow \\frac{\\partial L}{\\partial m}=?\n",
    "\\end{equation}"
   ]
  },
  {
   "cell_type": "code",
   "execution_count": 6,
   "metadata": {},
   "outputs": [
    {
     "data": {
      "text/latex": [
       "$$\\begin{equation}\\mathrel{\\text{Adjoin State Method for Constrained Optimization}}\\end{equation}$$"
      ],
      "text/plain": [
       "<IPython.core.display.Math object>"
      ]
     },
     "metadata": {},
     "output_type": "display_data"
    }
   ],
   "source": [
    "display(Math(r\"\"\"\\begin{equation}\\mathrel{\\text{Adjoin State Method for Constrained Optimization}}\\end{equation}\"\"\"))"
   ]
  },
  {
   "cell_type": "code",
   "execution_count": 7,
   "metadata": {},
   "outputs": [
    {
     "data": {
      "text/markdown": [
       "## Adjoint state method overview: start with two solutions $(Y,m)$ and $(Y+\\delta Y, m + \\delta m)$ satifying $F = 0$:"
      ],
      "text/plain": [
       "<IPython.core.display.Markdown object>"
      ]
     },
     "metadata": {},
     "output_type": "display_data"
    }
   ],
   "source": [
    "printmd('## Adjoint state method overview: start with two solutions $(Y,m)$ and $(Y+\\delta Y, m + \\delta m)$ satifying $F = 0$:')"
   ]
  },
  {
   "cell_type": "markdown",
   "metadata": {},
   "source": [
    "\\begin{equation}\n",
    "F(Y+\\delta Y, m + \\delta m) = F(Y,m) + \\frac{\\partial F}{\\partial Y}\\delta Y + \\frac{\\partial F}{\\partial m}\\delta m \n",
    "\\rightarrow\n",
    "\\frac{\\partial F}{\\partial Y}\\delta Y = - \\frac{\\partial F}{\\partial m}\\delta m\n",
    "\\rightarrow\n",
    "\\delta Y = - \\left( \\frac{\\partial F}{\\partial Y} \\right )^{-1} \\frac{\\partial F}{\\partial m}\\delta m\n",
    "\\end{equation}"
   ]
  },
  {
   "cell_type": "code",
   "execution_count": 8,
   "metadata": {},
   "outputs": [
    {
     "data": {
      "text/markdown": [
       "# Find optimization gradient as follow:"
      ],
      "text/plain": [
       "<IPython.core.display.Markdown object>"
      ]
     },
     "metadata": {},
     "output_type": "display_data"
    }
   ],
   "source": [
    "printmd('# Find optimization gradient as follow:')"
   ]
  },
  {
   "cell_type": "markdown",
   "metadata": {},
   "source": [
    "\\begin{equation}\n",
    "\\frac{\\partial L}{\\partial m} = \\frac{\\partial L}{\\partial Y} \\frac{\\partial Y}{\\partial m} = \n",
    "-\\frac{\\partial L}{\\partial Y} \\left (  \\frac{\\partial F}{\\partial Y} \\right )^{-1}\\frac{\\partial F}{\\partial m} =-\n",
    "\\left [ \\left (  \\frac{\\partial F}{\\partial Y} \\right )^{-1} \\right ]^* \n",
    "\\frac{\\partial L}{\\partial Y} \n",
    "\\frac{\\partial F}{\\partial m}=\n",
    "-\\left [ \\left (  \\frac{\\partial F}{\\partial Y} \\right )^* \\right ]^{-1} \n",
    "\\frac{\\partial L}{\\partial Y} \\frac{\\partial F}{\\partial m}=\n",
    "-\\lambda \\frac{\\partial F}{\\partial m}\n",
    "\\end{equation}"
   ]
  },
  {
   "cell_type": "markdown",
   "metadata": {},
   "source": [
    "\\begin{equation}\n",
    "\\mathrel{\\text{where}} \\lambda \\mathrel{\\text{defined as solution to adjoint problem:}}\n",
    "\\left (  \\frac{\\partial F}{\\partial Y} \\right )^* \\lambda = \\frac{\\partial L}{\\partial Y}\n",
    "\\end{equation}"
   ]
  },
  {
   "cell_type": "code",
   "execution_count": 9,
   "metadata": {},
   "outputs": [
    {
     "data": {
      "text/markdown": [
       "# Example: Modeling using Hyperbolic Non-parametric Equation"
      ],
      "text/plain": [
       "<IPython.core.display.Markdown object>"
      ]
     },
     "metadata": {},
     "output_type": "display_data"
    }
   ],
   "source": [
    "printmd('# Example: Modeling using Hyperbolic Non-parametric Equation')"
   ]
  },
  {
   "cell_type": "markdown",
   "metadata": {},
   "source": [
    "\\begin{equation}\n",
    "\\mathrel{\\text{min}} L(Y,m) \\mathrel{\\text{ subject to: }} F(Y,m)=0\n",
    "\\end{equation}"
   ]
  },
  {
   "cell_type": "markdown",
   "metadata": {},
   "source": [
    "\\begin{equation}\n",
    "\\mathrel{\\text{ where }} L = \\int (Y-Y^{obs})^2dx \n",
    "\\mathrel{\\text{ subject to: }} -Y^2 + x^2 -m^2 = 0\n",
    "\\end{equation}"
   ]
  },
  {
   "cell_type": "code",
   "execution_count": 10,
   "metadata": {},
   "outputs": [
    {
     "data": {
      "text/markdown": [
       "Find the adjoint state equations:"
      ],
      "text/plain": [
       "<IPython.core.display.Markdown object>"
      ]
     },
     "metadata": {},
     "output_type": "display_data"
    }
   ],
   "source": [
    "printmd('Find the adjoint state equations:')"
   ]
  },
  {
   "cell_type": "markdown",
   "metadata": {
    "collapsed": true
   },
   "source": [
    "\\begin{equation}\n",
    "\\frac{\\partial L}{\\partial Y} = Y-Y^{obs} \n",
    "\\end{equation}"
   ]
  },
  {
   "cell_type": "markdown",
   "metadata": {},
   "source": [
    "\\begin{equation}\n",
    "\\mathrel{\\text{ where }}\n",
    "\\frac{\\partial F}{\\partial m} = -2m\n",
    "\\mathrel{\\text{ and }}\n",
    "\\frac{\\partial F}{\\partial Y} = -2Y \\rightarrow \\left ( \\frac{\\partial F}{\\partial Y} \\right )^*=-2Y\n",
    "\\end{equation}"
   ]
  },
  {
   "cell_type": "code",
   "execution_count": 11,
   "metadata": {},
   "outputs": [
    {
     "data": {
      "text/markdown": [
       "### First solve for $\\lambda$ as follows:"
      ],
      "text/plain": [
       "<IPython.core.display.Markdown object>"
      ]
     },
     "metadata": {},
     "output_type": "display_data"
    }
   ],
   "source": [
    "printmd('### First solve for $\\lambda$ as follows:')"
   ]
  },
  {
   "cell_type": "markdown",
   "metadata": {},
   "source": [
    "\\begin{equation}\n",
    "\\left (  \\frac{\\partial F}{\\partial Y} \\right )^{*} \\lambda = \\frac{\\partial L}{\\partial Y} \\rightarrow\n",
    "-2Y\\lambda =  Y-Y^{obs} \\rightarrow \\lambda = -\\frac{Y-Y^{obs}}{2Y}\n",
    "\\end{equation}"
   ]
  },
  {
   "cell_type": "code",
   "execution_count": 12,
   "metadata": {},
   "outputs": [
    {
     "data": {
      "text/markdown": [
       "### Now find the solution gradient:"
      ],
      "text/plain": [
       "<IPython.core.display.Markdown object>"
      ]
     },
     "metadata": {},
     "output_type": "display_data"
    }
   ],
   "source": [
    "printmd('### Now find the solution gradient:')"
   ]
  },
  {
   "cell_type": "markdown",
   "metadata": {},
   "source": [
    "\\begin{equation}\n",
    "\\frac{\\partial L}{\\partial m} = \n",
    "-\\left [ \\left (  \\frac{\\partial F}{\\partial Y} \\right )^{*} \\right ]^{-1} \\frac{\\partial L}{\\partial Y} \\frac{\\partial F}{\\partial m} \n",
    "= - \\lambda \\frac{\\partial F}{\\partial m}\n",
    "= - \\int \\lambda (-2m) \n",
    "= 2m \\int \\lambda \n",
    "= 2m \\int -\\frac{Y-Y^{obs}}{2Y}\n",
    "\\end{equation}"
   ]
  },
  {
   "cell_type": "markdown",
   "metadata": {},
   "source": [
    "\\begin{equation}\n",
    "\\mathrel{\\text{ Gradient descent: }} \n",
    "m \\leftarrow m - \\alpha \\frac{\\partial L}{\\partial m}\n",
    "\\end{equation}"
   ]
  },
  {
   "cell_type": "code",
   "execution_count": null,
   "metadata": {
    "collapsed": true
   },
   "outputs": [],
   "source": []
  }
 ],
 "metadata": {
  "kernelspec": {
   "display_name": "Python 3",
   "language": "python",
   "name": "python3"
  },
  "language_info": {
   "codemirror_mode": {
    "name": "ipython",
    "version": 3
   },
   "file_extension": ".py",
   "mimetype": "text/x-python",
   "name": "python",
   "nbconvert_exporter": "python",
   "pygments_lexer": "ipython3",
   "version": "3.6.4"
  }
 },
 "nbformat": 4,
 "nbformat_minor": 1
}
